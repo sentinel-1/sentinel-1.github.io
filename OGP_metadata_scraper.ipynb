{
 "cells": [
  {
   "cell_type": "markdown",
   "id": "2076636e-f424-4f9c-be52-7a102c3c1376",
   "metadata": {},
   "source": [
    "## Web Scrape Metadata of [The Open Graph protocol](https://ogp.me/) Compliant Posts/Articles\n"
   ]
  },
  {
   "cell_type": "code",
   "execution_count": 1,
   "id": "3efd2ec3-b473-485c-9831-078340cbc66c",
   "metadata": {
    "tags": []
   },
   "outputs": [
    {
     "name": "stdout",
     "output_type": "stream",
     "text": [
      "\n",
      "Notebook START time: 2022-08-14 07:11:34.039013 UTC\n",
      "\n"
     ]
    }
   ],
   "source": [
    "from datetime import datetime, timedelta\n",
    "nb_st = datetime.utcnow()\n",
    "print(f\"\\nNotebook START time: {nb_st} UTC\\n\")"
   ]
  },
  {
   "cell_type": "code",
   "execution_count": 2,
   "id": "f1d94d6a-2f98-4cbc-b2d7-13b95789405e",
   "metadata": {
    "tags": []
   },
   "outputs": [
    {
     "data": {
      "text/html": [
       "<style>\n",
       "@media (max-width: 540px) {\n",
       "  .output .output_subarea {\n",
       "    max-width: 100%;\n",
       "  }\n",
       "}\n",
       "</style>\n",
       "<script>\n",
       "  function code_toggle() {\n",
       "    if (code_shown){\n",
       "      $('div.input').hide('500');\n",
       "      $('#toggleButton').val('🔎 Show Python Code')\n",
       "    } else {\n",
       "      $('div.input').show('500');\n",
       "      $('#toggleButton').val('⌦ Hide Python Code')\n",
       "    }\n",
       "    code_shown = !code_shown\n",
       "  }\n",
       "\n",
       "  $( document ).ready(function(){\n",
       "    code_shown=false;\n",
       "    $('div.input').hide();\n",
       "    $('div.input:contains(\"%%HTML\")').removeClass( \"input\")\n",
       "    $('div.input:contains(\"%%capture\")').removeClass(\"input\")\n",
       "  });\n",
       "</script>\n",
       "<form action=\"javascript:code_toggle()\">\n",
       "  <input type=\"submit\" id=\"toggleButton\" value=\"🔎 Show Python Code\"\n",
       "         class=\"btn btn-default btn-lg\">\n",
       "</form>\n"
      ],
      "text/plain": [
       "<IPython.core.display.HTML object>"
      ]
     },
     "metadata": {},
     "output_type": "display_data"
    }
   ],
   "source": [
    "%%HTML\n",
    "<style>\n",
    "@media (max-width: 540px) {\n",
    "  .output .output_subarea {\n",
    "    max-width: 100%;\n",
    "  }\n",
    "}\n",
    "</style>\n",
    "<script>\n",
    "  function code_toggle() {\n",
    "    if (code_shown){\n",
    "      $('div.input').hide('500');\n",
    "      $('#toggleButton').val('🔎 Show Python Code')\n",
    "    } else {\n",
    "      $('div.input').show('500');\n",
    "      $('#toggleButton').val('⌦ Hide Python Code')\n",
    "    }\n",
    "    code_shown = !code_shown\n",
    "  }\n",
    "\n",
    "  $( document ).ready(function(){\n",
    "    code_shown=false;\n",
    "    $('div.input').hide();\n",
    "    $('div.input:contains(\"%%HTML\")').removeClass( \"input\")\n",
    "    $('div.input:contains(\"%%capture\")').removeClass(\"input\")\n",
    "  });\n",
    "</script>\n",
    "<form action=\"javascript:code_toggle()\">\n",
    "  <input type=\"submit\" id=\"toggleButton\" value=\"🔎 Show Python Code\"\n",
    "         class=\"btn btn-default btn-lg\">\n",
    "</form>"
   ]
  },
  {
   "cell_type": "code",
   "execution_count": 3,
   "id": "4aa8fcf2-b8e1-492f-ab3c-03eb81ec6ef2",
   "metadata": {},
   "outputs": [],
   "source": [
    "import pandas as pd\n",
    "from pathlib import Path\n",
    "import warnings\n",
    "import requests\n",
    "from bs4 import BeautifulSoup\n",
    "import json"
   ]
  },
  {
   "cell_type": "code",
   "execution_count": 4,
   "id": "59a4e4a9-3427-468e-bfb2-a33663133650",
   "metadata": {},
   "outputs": [],
   "source": [
    "warnings.filterwarnings(action='error')"
   ]
  },
  {
   "cell_type": "code",
   "execution_count": 5,
   "id": "3a7c5432-0b9f-4496-81c4-f2546b6f2fb7",
   "metadata": {},
   "outputs": [],
   "source": [
    "VERBOSE = False\n",
    "BASE_LANGUAGE = 'en'\n",
    "OUTPUT_DIR = Path.cwd() / 'docs'"
   ]
  },
  {
   "cell_type": "code",
   "execution_count": 6,
   "id": "06be99bb-93dd-4252-8364-f248ea780d26",
   "metadata": {},
   "outputs": [],
   "source": [
    "df = pd.read_csv(\"data/shares.csv\")\n",
    "\n",
    "if VERBOSE:\n",
    "    display(df)"
   ]
  },
  {
   "cell_type": "code",
   "execution_count": 7,
   "id": "521fdf6d-28dc-4347-b61e-ddbacbcf0bb2",
   "metadata": {},
   "outputs": [],
   "source": [
    "ogp_data = {}\n",
    "\n",
    "\n",
    "for idx,row in df.iterrows():\n",
    "    \n",
    "    if VERBOSE:\n",
    "        print(f\"*** Processing: ({idx}) [{row['Language']}] {row['URL']}\")\n",
    "    \n",
    "    if not row['Language'] in ogp_data:\n",
    "        ogp_data[row['Language']] = []\n",
    "        \n",
    "        if VERBOSE:\n",
    "            print(\" ** New Language: \", row['Language'])\n",
    "    response = requests.get(row['URL'])\n",
    "    \n",
    "    if VERBOSE:\n",
    "        print(\"  * Response status code:\", response.status_code)\n",
    "    elif response.status_code < 200 or response.status_code >= 300:\n",
    "        print(f\"*** Processing: ({idx}) [{row['Language']}] {row['URL']}\")\n",
    "        print(\"  * Response status code:\", response.status_code)\n",
    "\n",
    "    soup = BeautifulSoup(response.text)\n",
    "\n",
    "    ogp_data[row['Language']].append({\n",
    "        \"og_url\": soup.find(\n",
    "            \"meta\", attrs={\"property\": \"og:url\"}).attrs[\"content\"],\n",
    "        \"og_type\": soup.find(\n",
    "            \"meta\", attrs={\"property\": \"og:type\"}).attrs[\"content\"],\n",
    "        \"og_title\": soup.find(\n",
    "            \"meta\", attrs={\"property\": \"og:title\"}).attrs[\"content\"],\n",
    "        \"og_description\": soup.find(\n",
    "            \"meta\", attrs={\"property\": \"og:description\"}).attrs[\"content\"],\n",
    "        \"og_image\": soup.find(\n",
    "            \"meta\", attrs={\"property\": \"og:image\"}).attrs[\"content\"],\n",
    "        \"og_image_alt\": soup.find(\n",
    "            \"meta\", attrs={\"property\": \"og:image:alt\"}).attrs[\"content\"],\n",
    "        \"og_image_type\": soup.find(\n",
    "            \"meta\", attrs={\"property\": \"og:image:type\"}).attrs[\"content\"],\n",
    "        \"og_image_width\": soup.find(\n",
    "            \"meta\", attrs={\"property\": \"og:image:width\"}).attrs[\"content\"],\n",
    "        \"og_image_height\": soup.find(\n",
    "            \"meta\", attrs={\"property\": \"og:image:height\"}).attrs[\"content\"],\n",
    "        \"article_published_time\": soup.find(\n",
    "            \"meta\",\n",
    "            attrs={\"property\": \"article:published_time\"}).attrs[\"content\"],\n",
    "        \"article_modified_time\": soup.find(\n",
    "            \"meta\",\n",
    "            attrs={\"property\": \"article:modified_time\"}).attrs[\"content\"],\n",
    "        \"article_publisher\": soup.find(\n",
    "            \"meta\", attrs={\"property\": \"article:publisher\"}).attrs[\"content\"],\n",
    "        \"article_author\": [\n",
    "            x.attrs[\"content\"]\n",
    "            for x in soup.find_all(\"meta\",\n",
    "                                   attrs={\"property\": \"article:author\"})\n",
    "        ],\n",
    "        \"article_section\": soup.find(\n",
    "            \"meta\", attrs={\"property\": \"article:section\"}).attrs[\"content\"],\n",
    "        \"article_tag\": [\n",
    "            x.attrs[\"content\"]\n",
    "            for x in soup.find_all(\"meta\", attrs={\"property\": \"article:tag\"})\n",
    "        ],\n",
    "    })"
   ]
  },
  {
   "cell_type": "code",
   "execution_count": 8,
   "id": "e7d5140a-5fa4-4df2-a40e-6de060069f16",
   "metadata": {},
   "outputs": [],
   "source": [
    "if VERBOSE:\n",
    "    print(\"*** Languages encountered:\",\", \".join(ogp_data.keys()))\n",
    "\n",
    "for language in ogp_data.keys():\n",
    "    \n",
    "    if language == BASE_LANGUAGE:\n",
    "        p = OUTPUT_DIR\n",
    "    else:\n",
    "        p = OUTPUT_DIR / language\n",
    "    p.mkdir(parents=True, exist_ok=True)\n",
    "    p /= \"ogp.json\"\n",
    "    \n",
    "    if VERBOSE:\n",
    "        print(f\"  * Writing [{language}]:\", p.relative_to(Path.cwd()))\n",
    "    with open(p , 'w') as f:\n",
    "        f.write(json.dumps(ogp_data[language], indent=\"\\t\"))"
   ]
  },
  {
   "cell_type": "code",
   "execution_count": 9,
   "id": "5c6d1ffc-846b-41f6-a1dc-e87e8ac19646",
   "metadata": {},
   "outputs": [
    {
     "name": "stdout",
     "output_type": "stream",
     "text": [
      "\n",
      " ** Total Elapsed time: 0:00:08.070057 ** \n",
      "\n",
      "Notebook END time: 2022-08-14 07:11:42.109550 UTC\n",
      "\n"
     ]
    }
   ],
   "source": [
    "print(f\"\\n ** Total Elapsed time: {datetime.utcnow() - nb_st} ** \\n\")\n",
    "print(f\"Notebook END time: {datetime.utcnow()} UTC\\n\")"
   ]
  }
 ],
 "metadata": {
  "kernelspec": {
   "display_name": "Python 3 (ipykernel)",
   "language": "python",
   "name": "python3"
  },
  "language_info": {
   "codemirror_mode": {
    "name": "ipython",
    "version": 3
   },
   "file_extension": ".py",
   "mimetype": "text/x-python",
   "name": "python",
   "nbconvert_exporter": "python",
   "pygments_lexer": "ipython3",
   "version": "3.9.2"
  }
 },
 "nbformat": 4,
 "nbformat_minor": 5
}
